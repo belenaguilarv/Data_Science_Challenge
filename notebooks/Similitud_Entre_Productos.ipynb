{
 "cells": [
  {
   "cell_type": "markdown",
   "id": "f3e75e2b-f6e2-4772-8d5c-9226217976e2",
   "metadata": {},
   "source": [
    "# 1. Preparación de los datos"
   ]
  },
  {
   "cell_type": "code",
   "execution_count": 20,
   "id": "4d37ca6a-25a7-4c5f-88b0-6314335efe97",
   "metadata": {},
   "outputs": [
    {
     "name": "stdout",
     "output_type": "stream",
     "text": [
      "Collecting unidecode\n",
      "  Downloading Unidecode-1.4.0-py3-none-any.whl.metadata (13 kB)\n",
      "Downloading Unidecode-1.4.0-py3-none-any.whl (235 kB)\n",
      "Installing collected packages: unidecode\n",
      "Successfully installed unidecode-1.4.0\n",
      "Note: you may need to restart the kernel to use updated packages.\n"
     ]
    }
   ],
   "source": [
    "pip install unidecode"
   ]
  },
  {
   "cell_type": "code",
   "execution_count": 21,
   "id": "587618d6-7c42-4a51-8dd8-9c644e197ad5",
   "metadata": {},
   "outputs": [],
   "source": [
    "# Importación de las librerías necesarias\n",
    "import pandas as pd\n",
    "import numpy as np\n",
    "import matplotlib.pyplot as plt\n",
    "import seaborn as sns\n",
    "import re\n",
    "from unidecode import unidecode"
   ]
  },
  {
   "cell_type": "code",
   "execution_count": 15,
   "id": "c2738853-831a-4bf5-b019-2ee0977631f3",
   "metadata": {},
   "outputs": [],
   "source": [
    "# Cargamos el archivo CSV\n",
    "df = pd.read_csv('../datasets/items_titles.csv')"
   ]
  },
  {
   "cell_type": "code",
   "execution_count": 16,
   "id": "8132e8d0-8d8a-4477-b973-cb6b6a0b4ad0",
   "metadata": {},
   "outputs": [
    {
     "name": "stdout",
     "output_type": "stream",
     "text": [
      "Tamaño del dataset\n",
      "Filas: 10000\n",
      "Columnas: 1\n",
      "\n",
      "Informacion general del dataset\n",
      "<class 'pandas.core.frame.DataFrame'>\n",
      "RangeIndex: 10000 entries, 0 to 9999\n",
      "Data columns (total 1 columns):\n",
      " #   Column          Non-Null Count  Dtype \n",
      "---  ------          --------------  ----- \n",
      " 0   ITE_ITEM_TITLE  10000 non-null  object\n",
      "dtypes: object(1)\n",
      "memory usage: 78.3+ KB\n"
     ]
    },
    {
     "data": {
      "text/html": [
       "<div>\n",
       "<style scoped>\n",
       "    .dataframe tbody tr th:only-of-type {\n",
       "        vertical-align: middle;\n",
       "    }\n",
       "\n",
       "    .dataframe tbody tr th {\n",
       "        vertical-align: top;\n",
       "    }\n",
       "\n",
       "    .dataframe thead th {\n",
       "        text-align: right;\n",
       "    }\n",
       "</style>\n",
       "<table border=\"1\" class=\"dataframe\">\n",
       "  <thead>\n",
       "    <tr style=\"text-align: right;\">\n",
       "      <th></th>\n",
       "      <th>ITE_ITEM_TITLE</th>\n",
       "    </tr>\n",
       "  </thead>\n",
       "  <tbody>\n",
       "    <tr>\n",
       "      <th>0</th>\n",
       "      <td>Tênis Olympikus Esporte Valente - Masculino Kids</td>\n",
       "    </tr>\n",
       "    <tr>\n",
       "      <th>1</th>\n",
       "      <td>Bicicleta Barra Forte Samy C/ 6 Marchas Cubo C...</td>\n",
       "    </tr>\n",
       "    <tr>\n",
       "      <th>2</th>\n",
       "      <td>Tênis Usthemp Slip-on Temático - Labrador 2</td>\n",
       "    </tr>\n",
       "    <tr>\n",
       "      <th>3</th>\n",
       "      <td>Tênis Casual Feminino Moleca Tecido Tie Dye</td>\n",
       "    </tr>\n",
       "    <tr>\n",
       "      <th>4</th>\n",
       "      <td>Tênis Star Baby Sapatinho Conforto + Brinde</td>\n",
       "    </tr>\n",
       "    <tr>\n",
       "      <th>...</th>\n",
       "      <td>...</td>\n",
       "    </tr>\n",
       "    <tr>\n",
       "      <th>9995</th>\n",
       "      <td>Chuteira Futsal Oxn Velox 3 Infantil</td>\n",
       "    </tr>\n",
       "    <tr>\n",
       "      <th>9996</th>\n",
       "      <td>Sapatenis Casual Masculino Estiloso 24horas Co...</td>\n",
       "    </tr>\n",
       "    <tr>\n",
       "      <th>9997</th>\n",
       "      <td>Tênis Feminino Infantil Molekinha Tie Dye</td>\n",
       "    </tr>\n",
       "    <tr>\n",
       "      <th>9998</th>\n",
       "      <td>Tênis Feminino Leve Barato Ganhe 1 Colchonete ...</td>\n",
       "    </tr>\n",
       "    <tr>\n",
       "      <th>9999</th>\n",
       "      <td>Tênis Polo Ralph Lauren Modelo Cantor Low Bran...</td>\n",
       "    </tr>\n",
       "  </tbody>\n",
       "</table>\n",
       "<p>10000 rows × 1 columns</p>\n",
       "</div>"
      ],
      "text/plain": [
       "                                         ITE_ITEM_TITLE\n",
       "0      Tênis Olympikus Esporte Valente - Masculino Kids\n",
       "1     Bicicleta Barra Forte Samy C/ 6 Marchas Cubo C...\n",
       "2          Tênis Usthemp Slip-on Temático - Labrador 2\n",
       "3           Tênis Casual Feminino Moleca Tecido Tie Dye\n",
       "4           Tênis Star Baby Sapatinho Conforto + Brinde\n",
       "...                                                 ...\n",
       "9995               Chuteira Futsal Oxn Velox 3 Infantil\n",
       "9996  Sapatenis Casual Masculino Estiloso 24horas Co...\n",
       "9997          Tênis Feminino Infantil Molekinha Tie Dye\n",
       "9998  Tênis Feminino Leve Barato Ganhe 1 Colchonete ...\n",
       "9999  Tênis Polo Ralph Lauren Modelo Cantor Low Bran...\n",
       "\n",
       "[10000 rows x 1 columns]"
      ]
     },
     "execution_count": 16,
     "metadata": {},
     "output_type": "execute_result"
    }
   ],
   "source": [
    "# Mostramos el tamaño del dataset \n",
    "print(\"Tamaño del dataset\")\n",
    "print(f\"Filas: {df.shape[0]}\")\n",
    "print(f\"Columnas: {df.shape[1]}\")\n",
    "\n",
    "# Vemos el tipo de datos\n",
    "print(\"\\nInformacion general del dataset\")\n",
    "df.info()\n",
    "\n",
    "#Mostramos algunas filas del dataset\n",
    "df"
   ]
  },
  {
   "cell_type": "markdown",
   "id": "8aa41474-127a-4f26-abac-342f13edab7b",
   "metadata": {},
   "source": [
    "Podemos observar que el dataset contiene una columna llamada `ITE_ITEM_TITLE` con los títulos de productos, que vamos a usar para medir similitud textual."
   ]
  },
  {
   "cell_type": "code",
   "execution_count": 25,
   "id": "25fc5088-4333-4d91-b1cc-481f6bacd6b1",
   "metadata": {},
   "outputs": [
    {
     "data": {
      "text/html": [
       "<div>\n",
       "<style scoped>\n",
       "    .dataframe tbody tr th:only-of-type {\n",
       "        vertical-align: middle;\n",
       "    }\n",
       "\n",
       "    .dataframe tbody tr th {\n",
       "        vertical-align: top;\n",
       "    }\n",
       "\n",
       "    .dataframe thead th {\n",
       "        text-align: right;\n",
       "    }\n",
       "</style>\n",
       "<table border=\"1\" class=\"dataframe\">\n",
       "  <thead>\n",
       "    <tr style=\"text-align: right;\">\n",
       "      <th></th>\n",
       "      <th>title</th>\n",
       "      <th>clean_title</th>\n",
       "    </tr>\n",
       "  </thead>\n",
       "  <tbody>\n",
       "    <tr>\n",
       "      <th>0</th>\n",
       "      <td>Tênis Olympikus Esporte Valente - Masculino Kids</td>\n",
       "      <td>tenis olympikus esporte valente masculino kids</td>\n",
       "    </tr>\n",
       "    <tr>\n",
       "      <th>1</th>\n",
       "      <td>Bicicleta Barra Forte Samy C/ 6 Marchas Cubo C...</td>\n",
       "      <td>bicicleta barra forte samy c 6 marchas cubo c ...</td>\n",
       "    </tr>\n",
       "    <tr>\n",
       "      <th>2</th>\n",
       "      <td>Tênis Usthemp Slip-on Temático - Labrador 2</td>\n",
       "      <td>tenis usthemp slipon tematico labrador 2</td>\n",
       "    </tr>\n",
       "    <tr>\n",
       "      <th>3</th>\n",
       "      <td>Tênis Casual Feminino Moleca Tecido Tie Dye</td>\n",
       "      <td>tenis casual feminino moleca tecido tie dye</td>\n",
       "    </tr>\n",
       "    <tr>\n",
       "      <th>4</th>\n",
       "      <td>Tênis Star Baby Sapatinho Conforto + Brinde</td>\n",
       "      <td>tenis star baby sapatinho conforto brinde</td>\n",
       "    </tr>\n",
       "    <tr>\n",
       "      <th>5</th>\n",
       "      <td>Tênis Oakley Frequency 3.0 Preto/marrom</td>\n",
       "      <td>tenis oakley frequency 30 pretomarrom</td>\n",
       "    </tr>\n",
       "    <tr>\n",
       "      <th>6</th>\n",
       "      <td>Tênis Jogging Feminino Premium Super Lançament...</td>\n",
       "      <td>tenis jogging feminino premium super lancament...</td>\n",
       "    </tr>\n",
       "    <tr>\n",
       "      <th>7</th>\n",
       "      <td>Under Armour Hovr Phantom 2 Conexão Bluetooth ...</td>\n",
       "      <td>under armour hovr phantom 2 conexao bluetooth ...</td>\n",
       "    </tr>\n",
       "    <tr>\n",
       "      <th>8</th>\n",
       "      <td>Tenis Infantil Feminino Menina Criança Moça</td>\n",
       "      <td>tenis infantil feminino menina crianca moca</td>\n",
       "    </tr>\n",
       "    <tr>\n",
       "      <th>9</th>\n",
       "      <td>Tênis Labellamafia Saturn 6 Cores Disponíveis</td>\n",
       "      <td>tenis labellamafia saturn 6 cores disponiveis</td>\n",
       "    </tr>\n",
       "  </tbody>\n",
       "</table>\n",
       "</div>"
      ],
      "text/plain": [
       "                                               title  \\\n",
       "0   Tênis Olympikus Esporte Valente - Masculino Kids   \n",
       "1  Bicicleta Barra Forte Samy C/ 6 Marchas Cubo C...   \n",
       "2       Tênis Usthemp Slip-on Temático - Labrador 2   \n",
       "3        Tênis Casual Feminino Moleca Tecido Tie Dye   \n",
       "4        Tênis Star Baby Sapatinho Conforto + Brinde   \n",
       "5            Tênis Oakley Frequency 3.0 Preto/marrom   \n",
       "6  Tênis Jogging Feminino Premium Super Lançament...   \n",
       "7  Under Armour Hovr Phantom 2 Conexão Bluetooth ...   \n",
       "8        Tenis Infantil Feminino Menina Criança Moça   \n",
       "9      Tênis Labellamafia Saturn 6 Cores Disponíveis   \n",
       "\n",
       "                                         clean_title  \n",
       "0     tenis olympikus esporte valente masculino kids  \n",
       "1  bicicleta barra forte samy c 6 marchas cubo c ...  \n",
       "2           tenis usthemp slipon tematico labrador 2  \n",
       "3        tenis casual feminino moleca tecido tie dye  \n",
       "4          tenis star baby sapatinho conforto brinde  \n",
       "5              tenis oakley frequency 30 pretomarrom  \n",
       "6  tenis jogging feminino premium super lancament...  \n",
       "7  under armour hovr phantom 2 conexao bluetooth ...  \n",
       "8        tenis infantil feminino menina crianca moca  \n",
       "9      tenis labellamafia saturn 6 cores disponiveis  "
      ]
     },
     "execution_count": 25,
     "metadata": {},
     "output_type": "execute_result"
    }
   ],
   "source": [
    "#Renombramos la columna para mayor comodidad\n",
    "df_clean = df.copy()\n",
    "df_clean = df_clean.rename(columns={'ITE_ITEM_TITLE': 'title'})\n",
    "\n",
    "# Función de limpieza de texto actualizada\n",
    "def clean_text(text):\n",
    "    if pd.isnull(text):\n",
    "        return \"\"\n",
    "    text = text.lower()  # Pasar a minúsculas\n",
    "    text = unidecode(text)  # Eliminar acentos (tênis -> tenis)\n",
    "    text = re.sub(r'[^\\w\\s]', '', text)  # Eliminar signos de puntuación\n",
    "    text = re.sub(r'\\s+', ' ', text).strip()  # Eliminar espacios duplicados\n",
    "    return text\n",
    "\n",
    "# Aplicamos la función al dataset\n",
    "df_clean['clean_title'] = df_clean['title'].apply(clean_text)\n",
    "\n",
    "#Mostramos una muestra de antes y después\n",
    "df_clean[['title', 'clean_title']].head(10)"
   ]
  },
  {
   "cell_type": "markdown",
   "id": "7e4ab62f-636c-416f-b2eb-43625442dac9",
   "metadata": {},
   "source": [
    "Relicé una limpieza adicional (normalización) eliminando los acentos y caracteres especiales utilizando la librería unidecode. Ya que los títulos están en portugués (ej: \"tênis\", \"camiseta\", etc.) y pueden contener variaciones ortográficas que afectan la comparación entre cadenas.\n",
    "\n",
    "Remover los acentos permite mejorar la calidad de las comparaciones, ya que palabras como \"tênis\" y \"tenis\" (que se refieren al mismo producto) pasan a ser tratadas como equivalentes."
   ]
  },
  {
   "cell_type": "markdown",
   "id": "2a3b3073-bd18-4a9d-b0d2-74a35c1b24bb",
   "metadata": {},
   "source": [
    "# 2. Vectorización"
   ]
  },
  {
   "cell_type": "code",
   "execution_count": null,
   "id": "9098f315-fbb4-4ebd-b6a5-0a23f8a5a488",
   "metadata": {},
   "outputs": [],
   "source": []
  }
 ],
 "metadata": {
  "kernelspec": {
   "display_name": "Python 3 (ipykernel)",
   "language": "python",
   "name": "python3"
  },
  "language_info": {
   "codemirror_mode": {
    "name": "ipython",
    "version": 3
   },
   "file_extension": ".py",
   "mimetype": "text/x-python",
   "name": "python",
   "nbconvert_exporter": "python",
   "pygments_lexer": "ipython3",
   "version": "3.12.2"
  }
 },
 "nbformat": 4,
 "nbformat_minor": 5
}
